{
 "cells": [
  {
   "cell_type": "code",
   "execution_count": 2,
   "id": "67e0d8de",
   "metadata": {
    "tags": []
   },
   "outputs": [
    {
     "name": "stdout",
     "output_type": "stream",
     "text": [
      "sagemaker.config INFO - Not applying SDK defaults from location: /etc/xdg/sagemaker/config.yaml\n",
      "sagemaker.config INFO - Not applying SDK defaults from location: /root/.config/sagemaker/config.yaml\n"
     ]
    }
   ],
   "source": [
    "import uuid\n",
    "import json\n",
    "from time import gmtime, strftime\n",
    "import boto3\n",
    "import sagemaker\n",
    "from sagemaker.session import Session\n",
    "from sagemaker.feature_store.feature_group import FeatureGroup\n",
    "\n",
    "role = sagemaker.get_execution_role()\n",
    "sagemaker_session = sagemaker.Session()\n",
    "region = sagemaker_session.boto_region_name\n",
    "boto_session = boto3.Session(region_name=region)\n",
    "\n",
    "account_id = boto3.client('sts').get_caller_identity().get('Account')\n",
    "\n",
    "suffix=uuid.uuid1().hex[:6] # to be used in resource names"
   ]
  },
  {
   "cell_type": "code",
   "execution_count": 6,
   "id": "3442cde2",
   "metadata": {
    "tags": []
   },
   "outputs": [
    {
     "data": {
      "text/plain": [
       "'/root/machine-learning-pipelines-for-multimodal-health-data/imaging/src'"
      ]
     },
     "execution_count": 6,
     "metadata": {},
     "output_type": "execute_result"
    }
   ],
   "source": [
    "pwd"
   ]
  },
  {
   "cell_type": "code",
   "execution_count": 4,
   "id": "5ac592c2",
   "metadata": {
    "tags": []
   },
   "outputs": [
    {
     "name": "stdout",
     "output_type": "stream",
     "text": [
      "/root/machine-learning-pipelines-for-multimodal-health-data/imaging/src\n"
     ]
    }
   ],
   "source": [
    "cd src"
   ]
  },
  {
   "cell_type": "code",
   "execution_count": 7,
   "id": "e7ca5268",
   "metadata": {},
   "outputs": [],
   "source": [
    "!sed -i \"s|##REGION##|{region}|g\" Dockerfile"
   ]
  },
  {
   "cell_type": "code",
   "execution_count": 8,
   "id": "32c6b187",
   "metadata": {},
   "outputs": [
    {
     "name": "stdout",
     "output_type": "stream",
     "text": [
      "FROM python:3.7-slim-buster\n",
      "\n",
      "COPY ./requirements.txt /opt/\n",
      "RUN pip3 install --no-cache-dir -r /opt/requirements.txt\n",
      "ENV PYTHONUNBUFFERED=TRUE\n",
      "ENV AWS_DEFAULT_REGION=us-east-1\n",
      "\n",
      "COPY ./dcm2nifti_processing.py /opt/\n",
      "COPY ./radiomics_utils.py /opt/\n",
      "\n",
      "ENTRYPOINT [\"python3\", \"/opt/dcm2nifti_processing.py\"]\n"
     ]
    }
   ],
   "source": [
    "!cat Dockerfile"
   ]
  },
  {
   "cell_type": "markdown",
   "id": "7feca806",
   "metadata": {},
   "source": [
    "Build a container image from the Dockerfile"
   ]
  },
  {
   "cell_type": "code",
   "execution_count": 9,
   "id": "54d35517",
   "metadata": {
    "scrolled": true
   },
   "outputs": [
    {
     "name": "stdout",
     "output_type": "stream",
     "text": [
      "\u001b[33mWARNING: Running pip as the 'root' user can result in broken permissions and conflicting behaviour with the system package manager. It is recommended to use a virtual environment instead: https://pip.pypa.io/warnings/venv\u001b[0m\u001b[33m\n",
      "\u001b[0m"
     ]
    }
   ],
   "source": [
    "!pip install -q sagemaker-studio-image-build"
   ]
  },
  {
   "cell_type": "code",
   "execution_count": 15,
   "id": "e9dd40aa",
   "metadata": {
    "scrolled": true
   },
   "outputs": [
    {
     "name": "stdout",
     "output_type": "stream",
     "text": [
      "sagemaker.config INFO - Not applying SDK defaults from location: /etc/xdg/sagemaker/config.yaml\n",
      "sagemaker.config INFO - Not applying SDK defaults from location: /root/.config/sagemaker/config.yaml\n",
      "................[Container] 2024/06/26 01:25:26.477851 Running on CodeBuild On-demand\n",
      "\n",
      "[Container] 2024/06/26 01:25:26.477862 Waiting for agent ping\n",
      "[Container] 2024/06/26 01:25:28.684790 Waiting for DOWNLOAD_SOURCE\n",
      "[Container] 2024/06/26 01:25:28.923543 Phase is DOWNLOAD_SOURCE\n",
      "[Container] 2024/06/26 01:25:28.924362 CODEBUILD_SRC_DIR=/codebuild/output/src563659493/src\n",
      "[Container] 2024/06/26 01:25:28.924816 YAML location is /codebuild/output/src563659493/src/buildspec.yml\n",
      "[Container] 2024/06/26 01:25:28.926446 Setting HTTP client timeout to higher timeout for S3 source\n",
      "[Container] 2024/06/26 01:25:28.926583 Processing environment variables\n",
      "[Container] 2024/06/26 01:25:28.970443 No runtime version selected in buildspec.\n",
      "[Container] 2024/06/26 01:25:28.984760 Moving to directory /codebuild/output/src563659493/src\n",
      "[Container] 2024/06/26 01:25:28.986121 Unable to initialize cache download: no paths specified to be cached\n",
      "[Container] 2024/06/26 01:25:28.986225 Configuring ssm agent with target id: codebuild:08c3a40b-6a84-4999-8ee2-a133cb634c14\n",
      "[Container] 2024/06/26 01:25:28.986456 Successfully updated ssm agent configuration\n",
      "[Container] 2024/06/26 01:25:28.986693 Registering with agent\n",
      "[Container] 2024/06/26 01:25:29.032551 Phases found in YAML: 3\n",
      "[Container] 2024/06/26 01:25:29.032650  PRE_BUILD: 9 commands\n",
      "[Container] 2024/06/26 01:25:29.032659  BUILD: 4 commands\n",
      "[Container] 2024/06/26 01:25:29.032662  POST_BUILD: 3 commands\n",
      "[Container] 2024/06/26 01:25:29.032936 Phase complete: DOWNLOAD_SOURCE State: SUCCEEDED\n",
      "[Container] 2024/06/26 01:25:29.032948 Phase context status code:  Message:\n",
      "[Container] 2024/06/26 01:25:29.122080 Entering phase INSTALL\n",
      "[Container] 2024/06/26 01:25:29.125077 Phase complete: INSTALL State: SUCCEEDED\n",
      "[Container] 2024/06/26 01:25:29.125088 Phase context status code:  Message:\n",
      "[Container] 2024/06/26 01:25:29.159454 Entering phase PRE_BUILD\n",
      "[Container] 2024/06/26 01:25:29.159868 Running command echo Logging in to Amazon ECR...\n",
      "Logging in to Amazon ECR...\n",
      "\n",
      "[Container] 2024/06/26 01:25:29.164772 Running command $(aws ecr get-login --no-include-email --region $AWS_DEFAULT_REGION)\n",
      "WARNING! Using --password via the CLI is insecure. Use --password-stdin.\n",
      "WARNING! Your password will be stored unencrypted in /root/.docker/config.json.\n",
      "Configure a credential helper to remove this warning. See\n",
      "https://docs.docker.com/engine/reference/commandline/login/#credentials-store\n",
      "\n",
      "Login Succeeded\n",
      "\n",
      "[Container] 2024/06/26 01:25:30.237733 Running command $(aws ecr get-login --no-include-email --region $AWS_DEFAULT_REGION --registry-ids 763104351884)\n",
      "WARNING! Using --password via the CLI is insecure. Use --password-stdin.\n",
      "WARNING! Your password will be stored unencrypted in /root/.docker/config.json.\n",
      "Configure a credential helper to remove this warning. See\n",
      "https://docs.docker.com/engine/reference/commandline/login/#credentials-store\n",
      "\n",
      "Login Succeeded\n",
      "\n",
      "[Container] 2024/06/26 01:25:30.783552 Running command $(aws ecr get-login --no-include-email --region $AWS_DEFAULT_REGION --registry-ids 217643126080)\n",
      "WARNING! Using --password via the CLI is insecure. Use --password-stdin.\n",
      "WARNING! Your password will be stored unencrypted in /root/.docker/config.json.\n",
      "Configure a credential helper to remove this warning. See\n",
      "https://docs.docker.com/engine/reference/commandline/login/#credentials-store\n",
      "\n",
      "Login Succeeded\n",
      "\n",
      "[Container] 2024/06/26 01:25:31.319906 Running command $(aws ecr get-login --no-include-email --region $AWS_DEFAULT_REGION --registry-ids 727897471807)\n",
      "WARNING! Using --password via the CLI is insecure. Use --password-stdin.\n",
      "WARNING! Your password will be stored unencrypted in /root/.docker/config.json.\n",
      "Configure a credential helper to remove this warning. See\n",
      "https://docs.docker.com/engine/reference/commandline/login/#credentials-store\n",
      "\n",
      "Login Succeeded\n",
      "\n",
      "[Container] 2024/06/26 01:25:31.859101 Running command $(aws ecr get-login --no-include-email --region $AWS_DEFAULT_REGION --registry-ids 626614931356)\n",
      "WARNING! Using --password via the CLI is insecure. Use --password-stdin.\n",
      "WARNING! Your password will be stored unencrypted in /root/.docker/config.json.\n",
      "Configure a credential helper to remove this warning. See\n",
      "https://docs.docker.com/engine/reference/commandline/login/#credentials-store\n",
      "\n",
      "Login Succeeded\n",
      "\n",
      "[Container] 2024/06/26 01:25:32.399857 Running command $(aws ecr get-login --no-include-email --region $AWS_DEFAULT_REGION --registry-ids 683313688378)\n",
      "WARNING! Using --password via the CLI is insecure. Use --password-stdin.\n",
      "WARNING! Your password will be stored unencrypted in /root/.docker/config.json.\n",
      "Configure a credential helper to remove this warning. See\n",
      "https://docs.docker.com/engine/reference/commandline/login/#credentials-store\n",
      "\n",
      "Login Succeeded\n",
      "\n",
      "[Container] 2024/06/26 01:25:32.949192 Running command $(aws ecr get-login --no-include-email --region $AWS_DEFAULT_REGION --registry-ids 520713654638)\n",
      "WARNING! Using --password via the CLI is insecure. Use --password-stdin.\n",
      "WARNING! Your password will be stored unencrypted in /root/.docker/config.json.\n",
      "Configure a credential helper to remove this warning. See\n",
      "https://docs.docker.com/engine/reference/commandline/login/#credentials-store\n",
      "\n",
      "Login Succeeded\n",
      "\n",
      "[Container] 2024/06/26 01:25:33.489753 Running command $(aws ecr get-login --no-include-email --region $AWS_DEFAULT_REGION --registry-ids 462105765813)\n",
      "WARNING! Using --password via the CLI is insecure. Use --password-stdin.\n",
      "WARNING! Your password will be stored unencrypted in /root/.docker/config.json.\n",
      "Configure a credential helper to remove this warning. See\n",
      "https://docs.docker.com/engine/reference/commandline/login/#credentials-store\n",
      "\n",
      "Login Succeeded\n",
      "\n",
      "[Container] 2024/06/26 01:25:34.042162 Phase complete: PRE_BUILD State: SUCCEEDED\n",
      "[Container] 2024/06/26 01:25:34.042307 Phase context status code:  Message:\n",
      "[Container] 2024/06/26 01:25:34.077861 Entering phase BUILD\n",
      "[Container] 2024/06/26 01:25:34.078391 Running command echo Build started on `date`\n",
      "Build started on Wed Jun 26 01:25:34 UTC 2024\n",
      "\n",
      "[Container] 2024/06/26 01:25:34.085695 Running command echo Building the Docker image...\n",
      "Building the Docker image...\n",
      "\n",
      "[Container] 2024/06/26 01:25:34.090314 Running command docker build -t $IMAGE_REPO_NAME:$IMAGE_TAG .\n",
      "Sending build context to Docker daemon  23.55kB\n",
      "Step 1/8 : FROM python:3.7-slim-buster\n",
      "3.7-slim-buster: Pulling from library/python\n",
      "8b91b88d5577: Pulling fs layer\n",
      "824416e23423: Pulling fs layer\n",
      "bbe2c2981082: Pulling fs layer\n",
      "7b6b68d15a5c: Pulling fs layer\n",
      "71f8f4db541d: Pulling fs layer\n",
      "7b6b68d15a5c: Waiting\n",
      "71f8f4db541d: Waiting\n",
      "824416e23423: Verifying Checksum\n",
      "824416e23423: Download complete\n",
      "bbe2c2981082: Verifying Checksum\n",
      "bbe2c2981082: Download complete\n",
      "7b6b68d15a5c: Verifying Checksum\n",
      "7b6b68d15a5c: Download complete\n",
      "8b91b88d5577: Verifying Checksum\n",
      "8b91b88d5577: Download complete\n",
      "71f8f4db541d: Verifying Checksum\n",
      "71f8f4db541d: Download complete\n",
      "8b91b88d5577: Pull complete\n",
      "824416e23423: Pull complete\n",
      "bbe2c2981082: Pull complete\n",
      "7b6b68d15a5c: Pull complete\n",
      "71f8f4db541d: Pull complete\n",
      "Digest: sha256:9bd2bfc822a533f99cbe6b1311d5bf0ff136f776ebac9b985407829f17278935\n",
      "Status: Downloaded newer image for python:3.7-slim-buster\n",
      " ---> 099f4583c701\n",
      "Step 2/8 : COPY ./requirements.txt /opt/\n",
      " ---> 2705d939ba72\n",
      "Step 3/8 : RUN pip3 install --no-cache-dir -r /opt/requirements.txt\n",
      " ---> Running in 573bc70a496f\n",
      "Collecting pydicom==2.1.2\n",
      "  Downloading pydicom-2.1.2-py3-none-any.whl (1.9 MB)\n",
      "     ━━━━━━━━━━━━━━━━━━━━━━━━━━━━━━━━━━━━━━━━ 1.9/1.9 MB 98.0 MB/s eta 0:00:00\n",
      "Collecting numpy==1.19.5\n",
      "  Downloading numpy-1.19.5-cp37-cp37m-manylinux2010_x86_64.whl (14.8 MB)\n",
      "     ━━━━━━━━━━━━━━━━━━━━━━━━━━━━━━━━━━━━━━━ 14.8/14.8 MB 216.3 MB/s eta 0:00:00\n",
      "Collecting nibabel==3.2.1\n",
      "  Downloading nibabel-3.2.1-py3-none-any.whl (3.3 MB)\n",
      "     ━━━━━━━━━━━━━━━━━━━━━━━━━━━━━━━━━━━━━━━━ 3.3/3.3 MB 220.4 MB/s eta 0:00:00\n",
      "Collecting nilearn==0.7.0\n",
      "  Downloading nilearn-0.7.0-py3-none-any.whl (3.0 MB)\n",
      "     ━━━━━━━━━━━━━━━━━━━━━━━━━━━━━━━━━━━━━━━━ 3.0/3.0 MB 217.2 MB/s eta 0:00:00\n",
      "Collecting matplotlib==3.1.3\n",
      "  Downloading matplotlib-3.1.3-cp37-cp37m-manylinux1_x86_64.whl (13.1 MB)\n",
      "     ━━━━━━━━━━━━━━━━━━━━━━━━━━━━━━━━━━━━━━━ 13.1/13.1 MB 242.6 MB/s eta 0:00:00\n",
      "Collecting dcmstack==0.8.0\n",
      "  Downloading dcmstack-0.8.0.tar.gz (49 kB)\n",
      "     ━━━━━━━━━━━━━━━━━━━━━━━━━━━━━━━━━━━━━━━ 50.0/50.0 kB 225.2 MB/s eta 0:00:00\n",
      "  Preparing metadata (setup.py): started\n",
      "  Preparing metadata (setup.py): finished with status 'done'\n",
      "Collecting pandas==1.1.5\n",
      "  Downloading pandas-1.1.5-cp37-cp37m-manylinux1_x86_64.whl (9.5 MB)\n",
      "     ━━━━━━━━━━━━━━━━━━━━━━━━━━━━━━━━━━━━━━━━ 9.5/9.5 MB 219.3 MB/s eta 0:00:00\n",
      "Collecting pyradiomics==3.0.1\n",
      "  Downloading pyradiomics-3.0.1-cp37-cp37m-manylinux1_x86_64.whl (188 kB)\n",
      "     ━━━━━━━━━━━━━━━━━━━━━━━━━━━━━━━━━━━━━ 188.3/188.3 kB 297.0 MB/s eta 0:00:00\n",
      "Collecting sagemaker==2.27.0\n",
      "  Downloading sagemaker-2.27.0.tar.gz (397 kB)\n",
      "     ━━━━━━━━━━━━━━━━━━━━━━━━━━━━━━━━━━━━━ 397.6/397.6 kB 248.3 MB/s eta 0:00:00\n",
      "  Preparing metadata (setup.py): started\n",
      "  Preparing metadata (setup.py): finished with status 'done'\n",
      "Collecting boto3==1.17.18\n",
      "  Downloading boto3-1.17.18-py2.py3-none-any.whl (130 kB)\n",
      "     ━━━━━━━━━━━━━━━━━━━━━━━━━━━━━━━━━━━━━ 130.3/130.3 kB 263.9 MB/s eta 0:00:00\n",
      "Collecting SimpleITK<=2.1.0\n",
      "  Downloading SimpleITK-2.1.0-cp37-cp37m-manylinux_2_12_x86_64.manylinux2010_x86_64.whl (48.4 MB)\n",
      "     ━━━━━━━━━━━━━━━━━━━━━━━━━━━━━━━━━━━━━━━━ 48.4/48.4 MB 19.3 MB/s eta 0:00:00\n",
      "Collecting packaging>=14.3\n",
      "  Downloading packaging-24.0-py3-none-any.whl (53 kB)\n",
      "     ━━━━━━━━━━━━━━━━━━━━━━━━━━━━━━━━━━━━━━━ 53.5/53.5 kB 213.0 MB/s eta 0:00:00\n",
      "Collecting scipy>=0.19\n",
      "  Downloading scipy-1.7.3-cp37-cp37m-manylinux_2_12_x86_64.manylinux2010_x86_64.whl (38.1 MB)\n",
      "     ━━━━━━━━━━━━━━━━━━━━━━━━━━━━━━━━━━━━━━━ 38.1/38.1 MB 229.5 MB/s eta 0:00:00\n",
      "Collecting joblib>=0.12\n",
      "  Downloading joblib-1.3.2-py3-none-any.whl (302 kB)\n",
      "     ━━━━━━━━━━━━━━━━━━━━━━━━━━━━━━━━━━━━━ 302.2/302.2 kB 309.4 MB/s eta 0:00:00\n",
      "Collecting requests>=2\n",
      "  Downloading requests-2.31.0-py3-none-any.whl (62 kB)\n",
      "     ━━━━━━━━━━━━━━━━━━━━━━━━━━━━━━━━━━━━━━━ 62.6/62.6 kB 237.7 MB/s eta 0:00:00\n",
      "Collecting scikit-learn>=0.19\n",
      "  Downloading scikit_learn-1.0.2-cp37-cp37m-manylinux_2_17_x86_64.manylinux2014_x86_64.whl (24.8 MB)\n",
      "     ━━━━━━━━━━━━━━━━━━━━━━━━━━━━━━━━━━━━━━━ 24.8/24.8 MB 246.7 MB/s eta 0:00:00\n",
      "Collecting pyparsing!=2.0.4,!=2.1.2,!=2.1.6,>=2.0.1\n",
      "  Downloading pyparsing-3.1.2-py3-none-any.whl (103 kB)\n",
      "     ━━━━━━━━━━━━━━━━━━━━━━━━━━━━━━━━━━━━━ 103.2/103.2 kB 265.3 MB/s eta 0:00:00\n",
      "Collecting kiwisolver>=1.0.1\n",
      "  Downloading kiwisolver-1.4.5-cp37-cp37m-manylinux_2_5_x86_64.manylinux1_x86_64.whl (1.1 MB)\n",
      "     ━━━━━━━━━━━━━━━━━━━━━━━━━━━━━━━━━━━━━━━━ 1.1/1.1 MB 277.7 MB/s eta 0:00:00\n",
      "Collecting cycler>=0.10\n",
      "  Downloading cycler-0.11.0-py3-none-any.whl (6.4 kB)\n",
      "Collecting python-dateutil>=2.1\n",
      "  Downloading python_dateutil-2.9.0.post0-py2.py3-none-any.whl (229 kB)\n",
      "     ━━━━━━━━━━━━━━━━━━━━━━━━━━━━━━━━━━━━━ 229.9/229.9 kB 306.6 MB/s eta 0:00:00\n",
      "Collecting pytz>=2017.2\n",
      "  Downloading pytz-2024.1-py2.py3-none-any.whl (505 kB)\n",
      "     ━━━━━━━━━━━━━━━━━━━━━━━━━━━━━━━━━━━━━ 505.5/505.5 kB 319.4 MB/s eta 0:00:00\n",
      "Collecting six>=1.10.0\n",
      "  Downloading six-1.16.0-py2.py3-none-any.whl (11 kB)\n",
      "Collecting pykwalify>=1.6.0\n",
      "  Downloading pykwalify-1.8.0-py2.py3-none-any.whl (24 kB)\n",
      "Collecting PyWavelets>=0.4.0\n",
      "  Downloading PyWavelets-1.3.0-cp37-cp37m-manylinux_2_5_x86_64.manylinux1_x86_64.manylinux_2_12_x86_64.manylinux2010_x86_64.whl (6.4 MB)\n",
      "     ━━━━━━━━━━━━━━━━━━━━━━━━━━━━━━━━━━━━━━━━ 6.4/6.4 MB 243.2 MB/s eta 0:00:00\n",
      "Collecting attrs\n",
      "  Downloading attrs-23.2.0-py3-none-any.whl (60 kB)\n",
      "     ━━━━━━━━━━━━━━━━━━━━━━━━━━━━━━━━━━━━━━━ 60.8/60.8 kB 233.1 MB/s eta 0:00:00\n",
      "Collecting google-pasta\n",
      "  Downloading google_pasta-0.2.0-py3-none-any.whl (57 kB)\n",
      "     ━━━━━━━━━━━━━━━━━━━━━━━━━━━━━━━━━━━━━━━ 57.5/57.5 kB 240.5 MB/s eta 0:00:00\n",
      "Collecting protobuf>=3.1\n",
      "  Downloading protobuf-4.24.4-cp37-abi3-manylinux2014_x86_64.whl (311 kB)\n",
      "     ━━━━━━━━━━━━━━━━━━━━━━━━━━━━━━━━━━━━━ 311.6/311.6 kB 303.5 MB/s eta 0:00:00\n",
      "Collecting protobuf3-to-dict>=0.1.5\n",
      "  Downloading protobuf3-to-dict-0.1.5.tar.gz (3.5 kB)\n",
      "  Preparing metadata (setup.py): started\n",
      "  Preparing metadata (setup.py): finished with status 'done'\n",
      "Collecting smdebug_rulesconfig==1.0.1\n",
      "  Downloading smdebug_rulesconfig-1.0.1-py2.py3-none-any.whl (20 kB)\n",
      "Collecting importlib-metadata>=1.4.0\n",
      "  Downloading importlib_metadata-6.7.0-py3-none-any.whl (22 kB)\n",
      "Collecting s3transfer<0.4.0,>=0.3.0\n",
      "  Downloading s3transfer-0.3.7-py2.py3-none-any.whl (73 kB)\n",
      "     ━━━━━━━━━━━━━━━━━━━━━━━━━━━━━━━━━━━━━━━ 73.4/73.4 kB 247.4 MB/s eta 0:00:00\n",
      "Collecting jmespath<1.0.0,>=0.7.1\n",
      "  Downloading jmespath-0.10.0-py2.py3-none-any.whl (24 kB)\n",
      "Collecting botocore<1.21.0,>=1.20.18\n",
      "  Downloading botocore-1.20.112-py2.py3-none-any.whl (7.7 MB)\n",
      "     ━━━━━━━━━━━━━━━━━━━━━━━━━━━━━━━━━━━━━━━━ 7.7/7.7 MB 260.3 MB/s eta 0:00:00\n",
      "Collecting urllib3<1.27,>=1.25.4\n",
      "  Downloading urllib3-1.26.19-py2.py3-none-any.whl (143 kB)\n",
      "     ━━━━━━━━━━━━━━━━━━━━━━━━━━━━━━━━━━━━━ 143.9/143.9 kB 289.9 MB/s eta 0:00:00\n",
      "Collecting typing-extensions>=3.6.4\n",
      "  Downloading typing_extensions-4.7.1-py3-none-any.whl (33 kB)\n",
      "Collecting zipp>=0.5\n",
      "  Downloading zipp-3.15.0-py3-none-any.whl (6.8 kB)\n",
      "Collecting ruamel.yaml>=0.16.0\n",
      "  Downloading ruamel.yaml-0.18.6-py3-none-any.whl (117 kB)\n",
      "     ━━━━━━━━━━━━━━━━━━━━━━━━━━━━━━━━━━━━━ 117.8/117.8 kB 266.5 MB/s eta 0:00:00\n",
      "Collecting docopt>=0.6.2\n",
      "  Downloading docopt-0.6.2.tar.gz (25 kB)\n",
      "  Preparing metadata (setup.py): started\n",
      "  Preparing metadata (setup.py): finished with status 'done'\n",
      "Collecting idna<4,>=2.5\n",
      "  Downloading idna-3.7-py3-none-any.whl (66 kB)\n",
      "     ━━━━━━━━━━━━━━━━━━━━━━━━━━━━━━━━━━━━━━━ 66.8/66.8 kB 235.9 MB/s eta 0:00:00\n",
      "Collecting charset-normalizer<4,>=2\n",
      "  Downloading charset_normalizer-3.3.2-cp37-cp37m-manylinux_2_17_x86_64.manylinux2014_x86_64.whl (136 kB)\n",
      "     ━━━━━━━━━━━━━━━━━━━━━━━━━━━━━━━━━━━━━ 136.8/136.8 kB 281.6 MB/s eta 0:00:00\n",
      "Collecting certifi>=2017.4.17\n",
      "  Downloading certifi-2024.6.2-py3-none-any.whl (164 kB)\n",
      "     ━━━━━━━━━━━━━━━━━━━━━━━━━━━━━━━━━━━━━ 164.4/164.4 kB 278.1 MB/s eta 0:00:00\n",
      "Collecting threadpoolctl>=2.0.0\n",
      "  Downloading threadpoolctl-3.1.0-py3-none-any.whl (14 kB)\n",
      "Collecting ruamel.yaml.clib>=0.2.7\n",
      "  Downloading ruamel.yaml.clib-0.2.8-cp37-cp37m-manylinux_2_5_x86_64.manylinux1_x86_64.whl (551 kB)\n",
      "     ━━━━━━━━━━━━━━━━━━━━━━━━━━━━━━━━━━━━━ 551.1/551.1 kB 319.0 MB/s eta 0:00:00\n",
      "Building wheels for collected packages: dcmstack, sagemaker, protobuf3-to-dict, docopt\n",
      "  Building wheel for dcmstack (setup.py): started\n",
      "  Building wheel for dcmstack (setup.py): finished with status 'done'\n",
      "  Created wheel for dcmstack: filename=dcmstack-0.8.0-py3-none-any.whl size=41190 sha256=7b83d1ffd2dac223ed26f49350e970c769c15ad5e5fe3ee74cf5595ab65f9e73\n",
      "  Stored in directory: /tmp/pip-ephem-wheel-cache-1o19uqm0/wheels/16/66/4f/88cb8b42ce4f71ce9074a9b59dab3f55b227386dfa3dc9df23\n",
      "  Building wheel for sagemaker (setup.py): started\n",
      "  Building wheel for sagemaker (setup.py): finished with status 'done'\n",
      "  Created wheel for sagemaker: filename=sagemaker-2.27.0-py2.py3-none-any.whl size=562671 sha256=f7840df268823b9c3bb4baba96db9a8fc44571fdaa35f71fdc01d40eb162d4c7\n",
      "  Stored in directory: /tmp/pip-ephem-wheel-cache-1o19uqm0/wheels/30/3e/8a/4da391ee27d59f8a3d1ad1fa52de7df4245658c0268ba43806\n",
      "  Building wheel for protobuf3-to-dict (setup.py): started\n",
      "  Building wheel for protobuf3-to-dict (setup.py): finished with status 'done'\n",
      "  Created wheel for protobuf3-to-dict: filename=protobuf3_to_dict-0.1.5-py3-none-any.whl size=4030 sha256=138db5381ec467b41abbc8ca26ecef9a0704fea4d462119cd7c0e0ec736c5027\n",
      "  Stored in directory: /tmp/pip-ephem-wheel-cache-1o19uqm0/wheels/ce/a0/8b/995ce2fbaf0e9fe7eb91da84e99e84d1b35cfaa555f2b8f1c7\n",
      "  Building wheel for docopt (setup.py): started\n",
      "  Building wheel for docopt (setup.py): finished with status 'done'\n",
      "  Created wheel for docopt: filename=docopt-0.6.2-py2.py3-none-any.whl size=13723 sha256=4806ff897b1068b9e84d4289260dc31d9499889dfae84571b0d82a6300bdcfdf\n",
      "  Stored in directory: /tmp/pip-ephem-wheel-cache-1o19uqm0/wheels/72/b0/3f/1d95f96ff986c7dfffe46ce2be4062f38ebd04b506c77c81b9\n",
      "Successfully built dcmstack sagemaker protobuf3-to-dict docopt\n",
      "Installing collected packages: SimpleITK, pytz, docopt, zipp, urllib3, typing-extensions, threadpoolctl, smdebug_rulesconfig, six, ruamel.yaml.clib, pyparsing, pydicom, protobuf, packaging, numpy, joblib, jmespath, idna, cycler, charset-normalizer, certifi, scipy, ruamel.yaml, requests, PyWavelets, python-dateutil, protobuf3-to-dict, nibabel, kiwisolver, importlib-metadata, google-pasta, scikit-learn, pykwalify, pandas, matplotlib, dcmstack, botocore, attrs, s3transfer, pyradiomics, nilearn, boto3, sagemaker\n",
      "Successfully installed PyWavelets-1.3.0 SimpleITK-2.1.0 attrs-23.2.0 boto3-1.17.18 botocore-1.20.112 certifi-2024.6.2 charset-normalizer-3.3.2 cycler-0.11.0 dcmstack-0.8.0 docopt-0.6.2 google-pasta-0.2.0 idna-3.7 importlib-metadata-6.7.0 jmespath-0.10.0 joblib-1.3.2 kiwisolver-1.4.5 matplotlib-3.1.3 nibabel-3.2.1 nilearn-0.7.0 numpy-1.19.5 packaging-24.0 pandas-1.1.5 protobuf-4.24.4 protobuf3-to-dict-0.1.5 pydicom-2.1.2 pykwalify-1.8.0 pyparsing-3.1.2 pyradiomics-3.0.1 python-dateutil-2.9.0.post0 pytz-2024.1 requests-2.31.0 ruamel.yaml-0.18.6 ruamel.yaml.clib-0.2.8 s3transfer-0.3.7 sagemaker-2.27.0 scikit-learn-1.0.2 scipy-1.7.3 six-1.16.0 smdebug_rulesconfig-1.0.1 threadpoolctl-3.1.0 typing-extensions-4.7.1 urllib3-1.26.19 zipp-3.15.0\n",
      "\u001b[91mWARNING: Running pip as the 'root' user can result in broken permissions and conflicting behaviour with the system package manager. It is recommended to use a virtual environment instead: https://pip.pypa.io/warnings/venv\n",
      "\u001b[0m\u001b[91m\n",
      "[notice] A new release of pip is available: 23.0.1 -> 24.0\n",
      "[notice] To update, run: pip install --upgrade pip\n",
      "\u001b[0mRemoving intermediate container 573bc70a496f\n",
      " ---> 72fe7d8b2d6c\n",
      "Step 4/8 : ENV PYTHONUNBUFFERED=TRUE\n",
      " ---> Running in 675e206b7e46\n",
      "Removing intermediate container 675e206b7e46\n",
      " ---> 8d81dbb285ad\n",
      "Step 5/8 : ENV AWS_DEFAULT_REGION=us-east-1\n",
      " ---> Running in f88cb1907da2\n",
      "Removing intermediate container f88cb1907da2\n",
      " ---> f4d70d192f40\n",
      "Step 6/8 : COPY ./dcm2nifti_processing.py /opt/\n",
      " ---> 7a92f65bf2f5\n",
      "Step 7/8 : COPY ./radiomics_utils.py /opt/\n",
      " ---> 6bed5130544a\n",
      "Step 8/8 : ENTRYPOINT [\"python3\", \"/opt/dcm2nifti_processing.py\"]\n",
      " ---> Running in c0996e991d46\n",
      "Removing intermediate container c0996e991d46\n",
      " ---> e56e5db9bddc\n",
      "Successfully built e56e5db9bddc\n",
      "Successfully tagged medical-image-processing-smstudio:1.0\n",
      "\n",
      "[Container] 2024/06/26 01:26:16.670346 Running command docker tag $IMAGE_REPO_NAME:$IMAGE_TAG $AWS_ACCOUNT_ID.dkr.ecr.$AWS_DEFAULT_REGION.amazonaws.com/$IMAGE_REPO_NAME:$IMAGE_TAG\n",
      "\n",
      "[Container] 2024/06/26 01:26:16.694963 Phase complete: BUILD State: SUCCEEDED\n",
      "[Container] 2024/06/26 01:26:16.694979 Phase context status code:  Message:\n",
      "[Container] 2024/06/26 01:26:16.731359 Entering phase POST_BUILD\n",
      "[Container] 2024/06/26 01:26:16.731809 Running command echo Build completed on `date`\n",
      "Build completed on Wed Jun 26 01:26:16 UTC 2024\n",
      "\n",
      "[Container] 2024/06/26 01:26:16.736686 Running command echo Pushing the Docker image...\n",
      "Pushing the Docker image...\n",
      "\n",
      "[Container] 2024/06/26 01:26:16.742547 Running command docker push $AWS_ACCOUNT_ID.dkr.ecr.$AWS_DEFAULT_REGION.amazonaws.com/$IMAGE_REPO_NAME:$IMAGE_TAG\n",
      "The push refers to repository [942514891246.dkr.ecr.us-east-1.amazonaws.com/medical-image-processing-smstudio]\n",
      "0c5a5e75ac95: Preparing\n",
      "f3e1bac3e87b: Preparing\n",
      "7e7753487696: Preparing\n",
      "d78fe4ac1f1c: Preparing\n",
      "ac388d012914: Preparing\n",
      "7bd2d30bdfa9: Preparing\n",
      "18fc9f968310: Preparing\n",
      "ae2d55769c5e: Preparing\n",
      "e2ef8a51359d: Preparing\n",
      "7bd2d30bdfa9: Waiting\n",
      "18fc9f968310: Waiting\n",
      "ae2d55769c5e: Waiting\n",
      "e2ef8a51359d: Waiting\n",
      "d78fe4ac1f1c: Pushed\n",
      "f3e1bac3e87b: Pushed\n",
      "0c5a5e75ac95: Pushed\n",
      "7bd2d30bdfa9: Pushed\n",
      "ac388d012914: Pushed\n",
      "ae2d55769c5e: Pushed\n",
      "18fc9f968310: Pushed\n",
      "e2ef8a51359d: Pushed\n",
      "7e7753487696: Pushed\n",
      "1.0: digest: sha256:c910331aea378a61074d6d6399e78ec1eb131ca9c80598256ec38d9a3ad019b1 size: 2207\n",
      "\n",
      "[Container] 2024/06/26 01:26:44.950121 Phase complete: POST_BUILD State: SUCCEEDED\n",
      "[Container] 2024/06/26 01:26:44.950140 Phase context status code:  Message:\n",
      "[Container] 2024/06/26 01:26:45.017353 Set report auto-discover timeout to 5 seconds\n",
      "[Container] 2024/06/26 01:26:45.017490 Expanding base directory path:  .\n",
      "[Container] 2024/06/26 01:26:45.018856 Assembling file list\n",
      "[Container] 2024/06/26 01:26:45.018867 Expanding .\n",
      "[Container] 2024/06/26 01:26:45.020276 Expanding file paths for base directory .\n",
      "[Container] 2024/06/26 01:26:45.020287 Assembling file list\n",
      "[Container] 2024/06/26 01:26:45.020290 Expanding **/*\n",
      "[Container] 2024/06/26 01:26:45.021853 No matching auto-discover report paths found\n",
      "[Container] 2024/06/26 01:26:45.021867 Report auto-discover file discovery took 0.004514 seconds\n",
      "[Container] 2024/06/26 01:26:45.021876 Phase complete: UPLOAD_ARTIFACTS State: SUCCEEDED\n",
      "[Container] 2024/06/26 01:26:45.021882 Phase context status code:  Message:\n",
      "\n",
      "Image URI: 942514891246.dkr.ecr.us-east-1.amazonaws.com/medical-image-processing-smstudio:1.0\n"
     ]
    }
   ],
   "source": [
    "!sm-docker build . --repository medical-image-processing-smstudio:1.0"
   ]
  },
  {
   "cell_type": "markdown",
   "id": "cbd1385a",
   "metadata": {},
   "source": [
    "Define the input and output data location. Please insert your bucket names to `input_data_bucket` and `output_data_bucket`."
   ]
  },
  {
   "cell_type": "code",
   "execution_count": 11,
   "id": "826242d2",
   "metadata": {},
   "outputs": [
    {
     "name": "stdout",
     "output_type": "stream",
     "text": [
      "s3://sagemaker-solutions-prod-us-east-1/sagemaker-lung-cancer-survival-prediction/1.1.0/data/nsclc_radiogenomics\n"
     ]
    }
   ],
   "source": [
    "input_data_bucket='sagemaker-solutions-prod-us-east-1'\n",
    "input_data_prefix='sagemaker-lung-cancer-survival-prediction/1.1.0/data/nsclc_radiogenomics'\n",
    "input_data_uri='s3://%s/%s' % (input_data_bucket, input_data_prefix)\n",
    "print(input_data_uri)"
   ]
  },
  {
   "cell_type": "code",
   "execution_count": 12,
   "id": "d4eac071",
   "metadata": {},
   "outputs": [
    {
     "name": "stdout",
     "output_type": "stream",
     "text": [
      "s3://sagemaker-us-east-1-942514891246/nsclc_radiogenomics\n"
     ]
    }
   ],
   "source": [
    "output_data_bucket=sagemaker_session.default_bucket()\n",
    "output_data_prefix='nsclc_radiogenomics'\n",
    "output_data_uri='s3://%s/%s' % (output_data_bucket, output_data_prefix)\n",
    "print(output_data_uri)"
   ]
  },
  {
   "cell_type": "markdown",
   "id": "f3704dc9",
   "metadata": {},
   "source": [
    "Be sure to use the image and tag name defined in `!sm-docker build` command. We will be replacing the placeholders in the Stepfunctions state machine definition json file with your bucket and image uri."
   ]
  },
  {
   "cell_type": "code",
   "execution_count": 16,
   "id": "38a0eb94",
   "metadata": {},
   "outputs": [],
   "source": [
    "ecr_image_uri='%s.dkr.ecr.%s.amazonaws.com/medical-image-processing-smstudio:1.0' % (account_id, region)"
   ]
  },
  {
   "cell_type": "code",
   "execution_count": 17,
   "id": "34efc349",
   "metadata": {},
   "outputs": [],
   "source": [
    "!sed -i \"s|##INPUT_DATA_S3URI##|{input_data_uri}|g\" nsclc-radiogenomics-imaging-workflow.json\n",
    "!sed -i \"s|##OUTPUT_DATA_S3URI##|{output_data_uri}|g\" nsclc-radiogenomics-imaging-workflow.json\n",
    "!sed -i \"s|##ECR_IMAGE_URI##|{ecr_image_uri}|g\" nsclc-radiogenomics-imaging-workflow.json\n",
    "!sed -i \"s|##IAM_ROLE_ARN##|{role}|g\" nsclc-radiogenomics-imaging-workflow.json"
   ]
  },
  {
   "cell_type": "code",
   "execution_count": 18,
   "id": "60856d95",
   "metadata": {},
   "outputs": [],
   "source": [
    "with open('nsclc-radiogenomics-imaging-workflow.json') as f:\n",
    "    state_machine_json = json.load(f)"
   ]
  },
  {
   "cell_type": "markdown",
   "id": "187316cc",
   "metadata": {},
   "source": [
    "We need to create an IAM execution role for the Stepfunctions workflow."
   ]
  },
  {
   "cell_type": "code",
   "execution_count": 19,
   "id": "f31fbf54",
   "metadata": {},
   "outputs": [],
   "source": [
    "iam = boto3.client('iam')\n",
    "\n",
    "my_managed_policy = {\n",
    "    \"Version\": \"2012-10-17\",\n",
    "    \"Statement\": [\n",
    "        {\n",
    "            \"Effect\": \"Allow\",\n",
    "            \"Action\": [\n",
    "                \"events:PutTargets\",\n",
    "                \"events:DescribeRule\",\n",
    "                \"events:PutRule\"\n",
    "            ],\n",
    "            \"Resource\": [\n",
    "                \"arn:aws:events:*:*:rule/StepFunctionsGetEventsForSageMakerTrainingJobsRule\",\n",
    "                \"arn:aws:events:*:*:rule/StepFunctionsGetEventsForSageMakerTransformJobsRule\",\n",
    "                \"arn:aws:events:*:*:rule/StepFunctionsGetEventsForSageMakerTuningJobsRule\",\n",
    "                \"arn:aws:events:*:*:rule/StepFunctionsGetEventsForECSTaskRule\",\n",
    "                \"arn:aws:events:*:*:rule/StepFunctionsGetEventsForBatchJobsRule\"\n",
    "            ]\n",
    "        },\n",
    "        {\n",
    "            \"Effect\": \"Allow\",\n",
    "            \"Action\": \"iam:PassRole\",\n",
    "            \"Resource\": role,\n",
    "            \"Condition\": {\n",
    "                \"StringEquals\": {\n",
    "                    \"iam:PassedToService\": \"sagemaker.amazonaws.com\"\n",
    "                }\n",
    "            }\n",
    "        },\n",
    "        {\n",
    "            \"Effect\": \"Allow\",\n",
    "            \"Action\": [\n",
    "                \"sagemaker:CreateProcessingJob\",\n",
    "                \"sagemaker:DescribeProcessingJob\",\n",
    "                \"sagemaker:ListProcessingJobs\",\n",
    "                \"sagemaker:ListTags\",\n",
    "                \"sagemaker:StopProcessingJob\",\n",
    "                \"sagemaker:AddTags\"\n",
    "            ],\n",
    "            \"Resource\": \"*\"\n",
    "        }\n",
    "    ]\n",
    "}\n",
    "\n",
    "trust_policy = {\n",
    "    \"Version\": \"2012-10-17\",\n",
    "    \"Statement\": [\n",
    "        {\n",
    "            \"Sid\": \"\",\n",
    "            \"Effect\": \"Allow\",\n",
    "            \"Principal\": {\n",
    "            \"Service\": [\"states.amazonaws.com\", \"sagemaker.amazonaws.com\"]},\n",
    "            \"Action\": \"sts:AssumeRole\"\n",
    "        }\n",
    "    ]\n",
    "}"
   ]
  },
  {
   "cell_type": "code",
   "execution_count": 21,
   "id": "b821decf-077b-4a17-90cb-345e3c0e4896",
   "metadata": {
    "tags": []
   },
   "outputs": [
    {
     "data": {
      "text/plain": [
       "'StepFunctionsWorkflowExecutionRole-dcd4788e327911efbca9be616a3e66ff'"
      ]
     },
     "execution_count": 21,
     "metadata": {},
     "output_type": "execute_result"
    }
   ],
   "source": [
    "role_name"
   ]
  },
  {
   "cell_type": "code",
   "execution_count": 22,
   "id": "a85a5cb5",
   "metadata": {},
   "outputs": [
    {
     "data": {
      "text/plain": [
       "{'ResponseMetadata': {'RequestId': 'ce8ccd5b-0e23-412a-acb8-0138eced5ef2',\n",
       "  'HTTPStatusCode': 200,\n",
       "  'HTTPHeaders': {'date': 'Wed, 26 Jun 2024 01:29:09 GMT',\n",
       "   'x-amzn-requestid': 'ce8ccd5b-0e23-412a-acb8-0138eced5ef2',\n",
       "   'content-type': 'text/xml',\n",
       "   'content-length': '212'},\n",
       "  'RetryAttempts': 0}}"
      ]
     },
     "execution_count": 22,
     "metadata": {},
     "output_type": "execute_result"
    }
   ],
   "source": [
    "policy_name = 'StepFunctionsWorkflowExecutionPolicy-%s' % suffix[:5]\n",
    "role_name = 'StepFunctionsWorkflowExecutionRole-%s' % suffix[:5]\n",
    "policy_response = iam.create_policy(\n",
    "  PolicyName=policy_name,\n",
    "  PolicyDocument=json.dumps(my_managed_policy)\n",
    ")\n",
    "\n",
    "role_response = iam.create_role(\n",
    "    RoleName=role_name,\n",
    "    AssumeRolePolicyDocument=json.dumps(trust_policy),\n",
    "    Description='Role to execute StepFunctions workflow which submits SageMaker jobs',\n",
    "    MaxSessionDuration=3600,\n",
    ")\n",
    "\n",
    "# Attach a policy to role\n",
    "iam.attach_role_policy(\n",
    "    PolicyArn=policy_response['Policy']['Arn'],\n",
    "    RoleName=role_name\n",
    ")\n",
    "iam.attach_role_policy(\n",
    "    PolicyArn='arn:aws:iam::aws:policy/CloudWatchEventsFullAccess',\n",
    "    RoleName=role_name\n",
    ")"
   ]
  },
  {
   "cell_type": "markdown",
   "id": "3cd922aa",
   "metadata": {},
   "source": [
    "Create a Stepfunctions workflow, i.e. a state machine."
   ]
  },
  {
   "cell_type": "code",
   "execution_count": 23,
   "id": "a631072f",
   "metadata": {},
   "outputs": [],
   "source": [
    "sfn = boto3.client('stepfunctions')\n",
    "sfn_execution_role = role_response['Role']['Arn']\n",
    "state_machine_name = 'nsclc-radiogenomics-imaging-workflow-%s' % suffix\n",
    "sfn_response = sfn.create_state_machine(name = state_machine_name,\n",
    "                                        definition = json.dumps(state_machine_json),\n",
    "                                        roleArn = sfn_execution_role,\n",
    "                                        type = 'STANDARD')"
   ]
  },
  {
   "cell_type": "code",
   "execution_count": 24,
   "id": "a3fd238a-c410-4e54-9552-99c98f1d2fbc",
   "metadata": {
    "tags": []
   },
   "outputs": [
    {
     "data": {
      "text/plain": [
       "'nsclc-radiogenomics-imaging-workflow-dcd4788e327911efbca9be616a3e66ff'"
      ]
     },
     "execution_count": 24,
     "metadata": {},
     "output_type": "execute_result"
    }
   ],
   "source": [
    "state_machine_name"
   ]
  },
  {
   "cell_type": "code",
   "execution_count": 26,
   "id": "bc6a17eb-a7c1-4172-a91e-a38d0c884149",
   "metadata": {
    "tags": []
   },
   "outputs": [
    {
     "data": {
      "text/plain": [
       "'arn:aws:states:us-east-1:942514891246:stateMachine:nsclc-radiogenomics-imaging-workflow-dcd4788e327911efbca9be616a3e66ff'"
      ]
     },
     "execution_count": 26,
     "metadata": {},
     "output_type": "execute_result"
    }
   ],
   "source": [
    "stateMachineArn=sfn_response['stateMachineArn']\n",
    "stateMachineArn"
   ]
  },
  {
   "cell_type": "markdown",
   "id": "530bf06f",
   "metadata": {},
   "source": [
    "The following is how you would run this workflow for all the `RO1` subjects.\n",
    "\n",
    "```python\n",
    "subject_list = ['R01-%03d'%i for i in range(1,163)]\n",
    "\n",
    "stateMachineArn=sfn_response['stateMachineArn']\n",
    "\n",
    "feature_store_name = 'imaging-feature-group-%s' % suffix\n",
    "processing_job_name = 'dcm-nifti-conversion-%s' % suffix\n",
    "offline_store_s3uri = '%s/multimodal-imaging-featurestore' % output_data_uri\n",
    "payload = {\n",
    "  \"PreprocessingJobName\": processing_job_name,\n",
    "  \"FeatureStoreName\": feature_store_name,\n",
    "  \"OfflineStoreS3Uri\": offline_store_s3uri,\n",
    "  \"Subject\": subject_list\n",
    "}\n",
    "exeution_response = sfn.start_execution(stateMachineArn=stateMachineArn,\n",
    "                                        name=suffix,\n",
    "                                        input=json.dumps(payload))\n",
    "\n",
    "print(exeution_response)\n",
    "```"
   ]
  }
 ],
 "metadata": {
  "availableInstances": [
   {
    "_defaultOrder": 0,
    "_isFastLaunch": true,
    "category": "General purpose",
    "gpuNum": 0,
    "hideHardwareSpecs": false,
    "memoryGiB": 4,
    "name": "ml.t3.medium",
    "vcpuNum": 2
   },
   {
    "_defaultOrder": 1,
    "_isFastLaunch": false,
    "category": "General purpose",
    "gpuNum": 0,
    "hideHardwareSpecs": false,
    "memoryGiB": 8,
    "name": "ml.t3.large",
    "vcpuNum": 2
   },
   {
    "_defaultOrder": 2,
    "_isFastLaunch": false,
    "category": "General purpose",
    "gpuNum": 0,
    "hideHardwareSpecs": false,
    "memoryGiB": 16,
    "name": "ml.t3.xlarge",
    "vcpuNum": 4
   },
   {
    "_defaultOrder": 3,
    "_isFastLaunch": false,
    "category": "General purpose",
    "gpuNum": 0,
    "hideHardwareSpecs": false,
    "memoryGiB": 32,
    "name": "ml.t3.2xlarge",
    "vcpuNum": 8
   },
   {
    "_defaultOrder": 4,
    "_isFastLaunch": true,
    "category": "General purpose",
    "gpuNum": 0,
    "hideHardwareSpecs": false,
    "memoryGiB": 8,
    "name": "ml.m5.large",
    "vcpuNum": 2
   },
   {
    "_defaultOrder": 5,
    "_isFastLaunch": false,
    "category": "General purpose",
    "gpuNum": 0,
    "hideHardwareSpecs": false,
    "memoryGiB": 16,
    "name": "ml.m5.xlarge",
    "vcpuNum": 4
   },
   {
    "_defaultOrder": 6,
    "_isFastLaunch": false,
    "category": "General purpose",
    "gpuNum": 0,
    "hideHardwareSpecs": false,
    "memoryGiB": 32,
    "name": "ml.m5.2xlarge",
    "vcpuNum": 8
   },
   {
    "_defaultOrder": 7,
    "_isFastLaunch": false,
    "category": "General purpose",
    "gpuNum": 0,
    "hideHardwareSpecs": false,
    "memoryGiB": 64,
    "name": "ml.m5.4xlarge",
    "vcpuNum": 16
   },
   {
    "_defaultOrder": 8,
    "_isFastLaunch": false,
    "category": "General purpose",
    "gpuNum": 0,
    "hideHardwareSpecs": false,
    "memoryGiB": 128,
    "name": "ml.m5.8xlarge",
    "vcpuNum": 32
   },
   {
    "_defaultOrder": 9,
    "_isFastLaunch": false,
    "category": "General purpose",
    "gpuNum": 0,
    "hideHardwareSpecs": false,
    "memoryGiB": 192,
    "name": "ml.m5.12xlarge",
    "vcpuNum": 48
   },
   {
    "_defaultOrder": 10,
    "_isFastLaunch": false,
    "category": "General purpose",
    "gpuNum": 0,
    "hideHardwareSpecs": false,
    "memoryGiB": 256,
    "name": "ml.m5.16xlarge",
    "vcpuNum": 64
   },
   {
    "_defaultOrder": 11,
    "_isFastLaunch": false,
    "category": "General purpose",
    "gpuNum": 0,
    "hideHardwareSpecs": false,
    "memoryGiB": 384,
    "name": "ml.m5.24xlarge",
    "vcpuNum": 96
   },
   {
    "_defaultOrder": 12,
    "_isFastLaunch": false,
    "category": "General purpose",
    "gpuNum": 0,
    "hideHardwareSpecs": false,
    "memoryGiB": 8,
    "name": "ml.m5d.large",
    "vcpuNum": 2
   },
   {
    "_defaultOrder": 13,
    "_isFastLaunch": false,
    "category": "General purpose",
    "gpuNum": 0,
    "hideHardwareSpecs": false,
    "memoryGiB": 16,
    "name": "ml.m5d.xlarge",
    "vcpuNum": 4
   },
   {
    "_defaultOrder": 14,
    "_isFastLaunch": false,
    "category": "General purpose",
    "gpuNum": 0,
    "hideHardwareSpecs": false,
    "memoryGiB": 32,
    "name": "ml.m5d.2xlarge",
    "vcpuNum": 8
   },
   {
    "_defaultOrder": 15,
    "_isFastLaunch": false,
    "category": "General purpose",
    "gpuNum": 0,
    "hideHardwareSpecs": false,
    "memoryGiB": 64,
    "name": "ml.m5d.4xlarge",
    "vcpuNum": 16
   },
   {
    "_defaultOrder": 16,
    "_isFastLaunch": false,
    "category": "General purpose",
    "gpuNum": 0,
    "hideHardwareSpecs": false,
    "memoryGiB": 128,
    "name": "ml.m5d.8xlarge",
    "vcpuNum": 32
   },
   {
    "_defaultOrder": 17,
    "_isFastLaunch": false,
    "category": "General purpose",
    "gpuNum": 0,
    "hideHardwareSpecs": false,
    "memoryGiB": 192,
    "name": "ml.m5d.12xlarge",
    "vcpuNum": 48
   },
   {
    "_defaultOrder": 18,
    "_isFastLaunch": false,
    "category": "General purpose",
    "gpuNum": 0,
    "hideHardwareSpecs": false,
    "memoryGiB": 256,
    "name": "ml.m5d.16xlarge",
    "vcpuNum": 64
   },
   {
    "_defaultOrder": 19,
    "_isFastLaunch": false,
    "category": "General purpose",
    "gpuNum": 0,
    "hideHardwareSpecs": false,
    "memoryGiB": 384,
    "name": "ml.m5d.24xlarge",
    "vcpuNum": 96
   },
   {
    "_defaultOrder": 20,
    "_isFastLaunch": false,
    "category": "General purpose",
    "gpuNum": 0,
    "hideHardwareSpecs": true,
    "memoryGiB": 0,
    "name": "ml.geospatial.interactive",
    "supportedImageNames": [
     "sagemaker-geospatial-v1-0"
    ],
    "vcpuNum": 0
   },
   {
    "_defaultOrder": 21,
    "_isFastLaunch": true,
    "category": "Compute optimized",
    "gpuNum": 0,
    "hideHardwareSpecs": false,
    "memoryGiB": 4,
    "name": "ml.c5.large",
    "vcpuNum": 2
   },
   {
    "_defaultOrder": 22,
    "_isFastLaunch": false,
    "category": "Compute optimized",
    "gpuNum": 0,
    "hideHardwareSpecs": false,
    "memoryGiB": 8,
    "name": "ml.c5.xlarge",
    "vcpuNum": 4
   },
   {
    "_defaultOrder": 23,
    "_isFastLaunch": false,
    "category": "Compute optimized",
    "gpuNum": 0,
    "hideHardwareSpecs": false,
    "memoryGiB": 16,
    "name": "ml.c5.2xlarge",
    "vcpuNum": 8
   },
   {
    "_defaultOrder": 24,
    "_isFastLaunch": false,
    "category": "Compute optimized",
    "gpuNum": 0,
    "hideHardwareSpecs": false,
    "memoryGiB": 32,
    "name": "ml.c5.4xlarge",
    "vcpuNum": 16
   },
   {
    "_defaultOrder": 25,
    "_isFastLaunch": false,
    "category": "Compute optimized",
    "gpuNum": 0,
    "hideHardwareSpecs": false,
    "memoryGiB": 72,
    "name": "ml.c5.9xlarge",
    "vcpuNum": 36
   },
   {
    "_defaultOrder": 26,
    "_isFastLaunch": false,
    "category": "Compute optimized",
    "gpuNum": 0,
    "hideHardwareSpecs": false,
    "memoryGiB": 96,
    "name": "ml.c5.12xlarge",
    "vcpuNum": 48
   },
   {
    "_defaultOrder": 27,
    "_isFastLaunch": false,
    "category": "Compute optimized",
    "gpuNum": 0,
    "hideHardwareSpecs": false,
    "memoryGiB": 144,
    "name": "ml.c5.18xlarge",
    "vcpuNum": 72
   },
   {
    "_defaultOrder": 28,
    "_isFastLaunch": false,
    "category": "Compute optimized",
    "gpuNum": 0,
    "hideHardwareSpecs": false,
    "memoryGiB": 192,
    "name": "ml.c5.24xlarge",
    "vcpuNum": 96
   },
   {
    "_defaultOrder": 29,
    "_isFastLaunch": true,
    "category": "Accelerated computing",
    "gpuNum": 1,
    "hideHardwareSpecs": false,
    "memoryGiB": 16,
    "name": "ml.g4dn.xlarge",
    "vcpuNum": 4
   },
   {
    "_defaultOrder": 30,
    "_isFastLaunch": false,
    "category": "Accelerated computing",
    "gpuNum": 1,
    "hideHardwareSpecs": false,
    "memoryGiB": 32,
    "name": "ml.g4dn.2xlarge",
    "vcpuNum": 8
   },
   {
    "_defaultOrder": 31,
    "_isFastLaunch": false,
    "category": "Accelerated computing",
    "gpuNum": 1,
    "hideHardwareSpecs": false,
    "memoryGiB": 64,
    "name": "ml.g4dn.4xlarge",
    "vcpuNum": 16
   },
   {
    "_defaultOrder": 32,
    "_isFastLaunch": false,
    "category": "Accelerated computing",
    "gpuNum": 1,
    "hideHardwareSpecs": false,
    "memoryGiB": 128,
    "name": "ml.g4dn.8xlarge",
    "vcpuNum": 32
   },
   {
    "_defaultOrder": 33,
    "_isFastLaunch": false,
    "category": "Accelerated computing",
    "gpuNum": 4,
    "hideHardwareSpecs": false,
    "memoryGiB": 192,
    "name": "ml.g4dn.12xlarge",
    "vcpuNum": 48
   },
   {
    "_defaultOrder": 34,
    "_isFastLaunch": false,
    "category": "Accelerated computing",
    "gpuNum": 1,
    "hideHardwareSpecs": false,
    "memoryGiB": 256,
    "name": "ml.g4dn.16xlarge",
    "vcpuNum": 64
   },
   {
    "_defaultOrder": 35,
    "_isFastLaunch": false,
    "category": "Accelerated computing",
    "gpuNum": 1,
    "hideHardwareSpecs": false,
    "memoryGiB": 61,
    "name": "ml.p3.2xlarge",
    "vcpuNum": 8
   },
   {
    "_defaultOrder": 36,
    "_isFastLaunch": false,
    "category": "Accelerated computing",
    "gpuNum": 4,
    "hideHardwareSpecs": false,
    "memoryGiB": 244,
    "name": "ml.p3.8xlarge",
    "vcpuNum": 32
   },
   {
    "_defaultOrder": 37,
    "_isFastLaunch": false,
    "category": "Accelerated computing",
    "gpuNum": 8,
    "hideHardwareSpecs": false,
    "memoryGiB": 488,
    "name": "ml.p3.16xlarge",
    "vcpuNum": 64
   },
   {
    "_defaultOrder": 38,
    "_isFastLaunch": false,
    "category": "Accelerated computing",
    "gpuNum": 8,
    "hideHardwareSpecs": false,
    "memoryGiB": 768,
    "name": "ml.p3dn.24xlarge",
    "vcpuNum": 96
   },
   {
    "_defaultOrder": 39,
    "_isFastLaunch": false,
    "category": "Memory Optimized",
    "gpuNum": 0,
    "hideHardwareSpecs": false,
    "memoryGiB": 16,
    "name": "ml.r5.large",
    "vcpuNum": 2
   },
   {
    "_defaultOrder": 40,
    "_isFastLaunch": false,
    "category": "Memory Optimized",
    "gpuNum": 0,
    "hideHardwareSpecs": false,
    "memoryGiB": 32,
    "name": "ml.r5.xlarge",
    "vcpuNum": 4
   },
   {
    "_defaultOrder": 41,
    "_isFastLaunch": false,
    "category": "Memory Optimized",
    "gpuNum": 0,
    "hideHardwareSpecs": false,
    "memoryGiB": 64,
    "name": "ml.r5.2xlarge",
    "vcpuNum": 8
   },
   {
    "_defaultOrder": 42,
    "_isFastLaunch": false,
    "category": "Memory Optimized",
    "gpuNum": 0,
    "hideHardwareSpecs": false,
    "memoryGiB": 128,
    "name": "ml.r5.4xlarge",
    "vcpuNum": 16
   },
   {
    "_defaultOrder": 43,
    "_isFastLaunch": false,
    "category": "Memory Optimized",
    "gpuNum": 0,
    "hideHardwareSpecs": false,
    "memoryGiB": 256,
    "name": "ml.r5.8xlarge",
    "vcpuNum": 32
   },
   {
    "_defaultOrder": 44,
    "_isFastLaunch": false,
    "category": "Memory Optimized",
    "gpuNum": 0,
    "hideHardwareSpecs": false,
    "memoryGiB": 384,
    "name": "ml.r5.12xlarge",
    "vcpuNum": 48
   },
   {
    "_defaultOrder": 45,
    "_isFastLaunch": false,
    "category": "Memory Optimized",
    "gpuNum": 0,
    "hideHardwareSpecs": false,
    "memoryGiB": 512,
    "name": "ml.r5.16xlarge",
    "vcpuNum": 64
   },
   {
    "_defaultOrder": 46,
    "_isFastLaunch": false,
    "category": "Memory Optimized",
    "gpuNum": 0,
    "hideHardwareSpecs": false,
    "memoryGiB": 768,
    "name": "ml.r5.24xlarge",
    "vcpuNum": 96
   },
   {
    "_defaultOrder": 47,
    "_isFastLaunch": false,
    "category": "Accelerated computing",
    "gpuNum": 1,
    "hideHardwareSpecs": false,
    "memoryGiB": 16,
    "name": "ml.g5.xlarge",
    "vcpuNum": 4
   },
   {
    "_defaultOrder": 48,
    "_isFastLaunch": false,
    "category": "Accelerated computing",
    "gpuNum": 1,
    "hideHardwareSpecs": false,
    "memoryGiB": 32,
    "name": "ml.g5.2xlarge",
    "vcpuNum": 8
   },
   {
    "_defaultOrder": 49,
    "_isFastLaunch": false,
    "category": "Accelerated computing",
    "gpuNum": 1,
    "hideHardwareSpecs": false,
    "memoryGiB": 64,
    "name": "ml.g5.4xlarge",
    "vcpuNum": 16
   },
   {
    "_defaultOrder": 50,
    "_isFastLaunch": false,
    "category": "Accelerated computing",
    "gpuNum": 1,
    "hideHardwareSpecs": false,
    "memoryGiB": 128,
    "name": "ml.g5.8xlarge",
    "vcpuNum": 32
   },
   {
    "_defaultOrder": 51,
    "_isFastLaunch": false,
    "category": "Accelerated computing",
    "gpuNum": 1,
    "hideHardwareSpecs": false,
    "memoryGiB": 256,
    "name": "ml.g5.16xlarge",
    "vcpuNum": 64
   },
   {
    "_defaultOrder": 52,
    "_isFastLaunch": false,
    "category": "Accelerated computing",
    "gpuNum": 4,
    "hideHardwareSpecs": false,
    "memoryGiB": 192,
    "name": "ml.g5.12xlarge",
    "vcpuNum": 48
   },
   {
    "_defaultOrder": 53,
    "_isFastLaunch": false,
    "category": "Accelerated computing",
    "gpuNum": 4,
    "hideHardwareSpecs": false,
    "memoryGiB": 384,
    "name": "ml.g5.24xlarge",
    "vcpuNum": 96
   },
   {
    "_defaultOrder": 54,
    "_isFastLaunch": false,
    "category": "Accelerated computing",
    "gpuNum": 8,
    "hideHardwareSpecs": false,
    "memoryGiB": 768,
    "name": "ml.g5.48xlarge",
    "vcpuNum": 192
   },
   {
    "_defaultOrder": 55,
    "_isFastLaunch": false,
    "category": "Accelerated computing",
    "gpuNum": 8,
    "hideHardwareSpecs": false,
    "memoryGiB": 1152,
    "name": "ml.p4d.24xlarge",
    "vcpuNum": 96
   },
   {
    "_defaultOrder": 56,
    "_isFastLaunch": false,
    "category": "Accelerated computing",
    "gpuNum": 8,
    "hideHardwareSpecs": false,
    "memoryGiB": 1152,
    "name": "ml.p4de.24xlarge",
    "vcpuNum": 96
   },
   {
    "_defaultOrder": 57,
    "_isFastLaunch": false,
    "category": "Accelerated computing",
    "gpuNum": 0,
    "hideHardwareSpecs": false,
    "memoryGiB": 32,
    "name": "ml.trn1.2xlarge",
    "vcpuNum": 8
   },
   {
    "_defaultOrder": 58,
    "_isFastLaunch": false,
    "category": "Accelerated computing",
    "gpuNum": 0,
    "hideHardwareSpecs": false,
    "memoryGiB": 512,
    "name": "ml.trn1.32xlarge",
    "vcpuNum": 128
   },
   {
    "_defaultOrder": 59,
    "_isFastLaunch": false,
    "category": "Accelerated computing",
    "gpuNum": 0,
    "hideHardwareSpecs": false,
    "memoryGiB": 512,
    "name": "ml.trn1n.32xlarge",
    "vcpuNum": 128
   }
  ],
  "instance_type": "ml.t3.medium",
  "kernelspec": {
   "display_name": "Python 3 (Data Science 3.0)",
   "language": "python",
   "name": "python3__SAGEMAKER_INTERNAL__arn:aws:sagemaker:us-east-1:081325390199:image/sagemaker-data-science-310-v1"
  },
  "language_info": {
   "codemirror_mode": {
    "name": "ipython",
    "version": 3
   },
   "file_extension": ".py",
   "mimetype": "text/x-python",
   "name": "python",
   "nbconvert_exporter": "python",
   "pygments_lexer": "ipython3",
   "version": "3.10.6"
  }
 },
 "nbformat": 4,
 "nbformat_minor": 5
}
